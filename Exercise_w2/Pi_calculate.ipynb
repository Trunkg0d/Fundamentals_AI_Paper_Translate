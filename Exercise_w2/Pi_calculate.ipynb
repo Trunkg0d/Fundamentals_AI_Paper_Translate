{
 "cells": [
  {
   "cell_type": "code",
   "execution_count": 11,
   "id": "9ad07160",
   "metadata": {},
   "outputs": [],
   "source": [
    "import numpy as np"
   ]
  },
  {
   "cell_type": "code",
   "execution_count": 12,
   "id": "76a15210",
   "metadata": {},
   "outputs": [],
   "source": [
    "def calculate_pi(N):\n",
    "    R = 0.5\n",
    "    S_square = 1.0\n",
    "    c = 0.5\n",
    "    \n",
    "    x = []\n",
    "    y = []\n",
    "\n",
    "    for i in range(N):\n",
    "        x_i = np.random.uniform(0, 1)\n",
    "        y_i = np.random.uniform(0, 1)\n",
    "        x.append(x_i)\n",
    "        y.append(y_i)\n",
    "        \n",
    "    cnt_point_circle = 0\n",
    "    cnt_point_square = N\n",
    "\n",
    "    for i, j in zip(x, y):\n",
    "        if (i - c)**2 + (j - c)**2 <= R**2:\n",
    "            cnt_point_circle += 1\n",
    "        \n",
    "    pi = cnt_point_circle / (cnt_point_square * R**2)\n",
    "    print(pi)"
   ]
  },
  {
   "cell_type": "code",
   "execution_count": 14,
   "id": "30d86cf2",
   "metadata": {},
   "outputs": [
    {
     "name": "stdout",
     "output_type": "stream",
     "text": [
      "4.0\n",
      "3.134086591340866\n",
      "3.153042347882606\n",
      "3.1257624745841803\n",
      "3.141521461963451\n",
      "3.1578568428631426\n",
      "3.143880935317745\n",
      "3.135098070027571\n",
      "3.142310721115986\n",
      "3.1357873801402207\n",
      "3.147448525514745\n",
      "3.1403350878628378\n",
      "3.1411404904959124\n",
      "3.1406835332035907\n",
      "3.1349204648538223\n",
      "3.132939113739242\n",
      "3.142505359341504\n",
      "3.1385697731189817\n",
      "3.150382497875012\n",
      "3.1440255577602225\n",
      "3.1335843320783394\n",
      "3.143813600887615\n",
      "3.142294807750874\n",
      "3.1388559180177475\n",
      "3.1382035908183714\n"
     ]
    },
    {
     "ename": "KeyboardInterrupt",
     "evalue": "",
     "output_type": "error",
     "traceback": [
      "\u001b[1;31m---------------------------------------------------------------------------\u001b[0m",
      "\u001b[1;31mKeyboardInterrupt\u001b[0m                         Traceback (most recent call last)",
      "Cell \u001b[1;32mIn [14], line 2\u001b[0m\n\u001b[0;32m      1\u001b[0m \u001b[38;5;28;01mfor\u001b[39;00m n \u001b[38;5;129;01min\u001b[39;00m \u001b[38;5;28mrange\u001b[39m(\u001b[38;5;241m1\u001b[39m, \u001b[38;5;241m1000000\u001b[39m, \u001b[38;5;241m10000\u001b[39m):\n\u001b[1;32m----> 2\u001b[0m     calculate_pi(n)\n",
      "Cell \u001b[1;32mIn [12], line 12\u001b[0m, in \u001b[0;36mcalculate_pi\u001b[1;34m(N)\u001b[0m\n\u001b[0;32m     10\u001b[0m     x_i \u001b[38;5;241m=\u001b[39m np\u001b[38;5;241m.\u001b[39mrandom\u001b[38;5;241m.\u001b[39muniform(\u001b[38;5;241m0\u001b[39m, \u001b[38;5;241m1\u001b[39m)\n\u001b[0;32m     11\u001b[0m     y_i \u001b[38;5;241m=\u001b[39m np\u001b[38;5;241m.\u001b[39mrandom\u001b[38;5;241m.\u001b[39muniform(\u001b[38;5;241m0\u001b[39m, \u001b[38;5;241m1\u001b[39m)\n\u001b[1;32m---> 12\u001b[0m     \u001b[43mx\u001b[49m\u001b[38;5;241;43m.\u001b[39;49m\u001b[43mappend\u001b[49m(x_i)\n\u001b[0;32m     13\u001b[0m     y\u001b[38;5;241m.\u001b[39mappend(y_i)\n\u001b[0;32m     15\u001b[0m cnt_point_circle \u001b[38;5;241m=\u001b[39m \u001b[38;5;241m0\u001b[39m\n",
      "\u001b[1;31mKeyboardInterrupt\u001b[0m: "
     ]
    }
   ],
   "source": [
    "for n in range(1, 1000000, 100000):\n",
    "    calculate_pi(n)"
   ]
  },
  {
   "cell_type": "code",
   "execution_count": null,
   "id": "5cc648e9",
   "metadata": {},
   "outputs": [],
   "source": []
  }
 ],
 "metadata": {
  "kernelspec": {
   "display_name": "Python 3 (ipykernel)",
   "language": "python",
   "name": "python3"
  },
  "language_info": {
   "codemirror_mode": {
    "name": "ipython",
    "version": 3
   },
   "file_extension": ".py",
   "mimetype": "text/x-python",
   "name": "python",
   "nbconvert_exporter": "python",
   "pygments_lexer": "ipython3",
   "version": "3.9.16"
  }
 },
 "nbformat": 4,
 "nbformat_minor": 5
}
