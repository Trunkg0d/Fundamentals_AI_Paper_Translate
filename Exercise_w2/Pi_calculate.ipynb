{
 "cells": [
  {
   "cell_type": "code",
   "execution_count": 1,
   "id": "9ad07160",
   "metadata": {},
   "outputs": [],
   "source": [
    "import numpy as np"
   ]
  },
  {
   "cell_type": "code",
   "execution_count": 2,
   "id": "76a15210",
   "metadata": {},
   "outputs": [],
   "source": [
    "def calculate_pi(N):\n",
    "    R = 0.5\n",
    "    S_square = 1.0\n",
    "    c = 0.5\n",
    "    \n",
    "    x = []\n",
    "    y = []\n",
    "\n",
    "    for i in range(N):\n",
    "        x_i = np.random.uniform(0, 1)\n",
    "        y_i = np.random.uniform(0, 1)\n",
    "        x.append(x_i)\n",
    "        y.append(y_i)\n",
    "        \n",
    "    cnt_point_circle = 0\n",
    "    cnt_point_square = N\n",
    "\n",
    "    for i, j in zip(x, y):\n",
    "        if (i - c)**2 + (j - c)**2 <= R**2:\n",
    "            cnt_point_circle += 1\n",
    "        \n",
    "    pi = cnt_point_circle / (cnt_point_square * R**2)\n",
    "    print(pi)"
   ]
  },
  {
   "cell_type": "code",
   "execution_count": 3,
   "id": "30d86cf2",
   "metadata": {},
   "outputs": [
    {
     "name": "stdout",
     "output_type": "stream",
     "text": [
      "4.0\n",
      "3.143208567914321\n",
      "3.140564297178514\n",
      "3.1395095349682167\n",
      "3.1389821525446187\n",
      "3.1428817142365717\n",
      "3.138941435097608\n",
      "3.1438983658594775\n",
      "3.1401260748424065\n",
      "3.1415609538211626\n"
     ]
    }
   ],
   "source": [
    "for n in range(1, 1000000, 100000):\n",
    "    calculate_pi(n)"
   ]
  },
  {
   "cell_type": "code",
   "execution_count": null,
   "id": "5cc648e9",
   "metadata": {},
   "outputs": [],
   "source": []
  }
 ],
 "metadata": {
  "kernelspec": {
   "display_name": "Python 3 (ipykernel)",
   "language": "python",
   "name": "python3"
  },
  "language_info": {
   "codemirror_mode": {
    "name": "ipython",
    "version": 3
   },
   "file_extension": ".py",
   "mimetype": "text/x-python",
   "name": "python",
   "nbconvert_exporter": "python",
   "pygments_lexer": "ipython3",
   "version": "3.9.16"
  }
 },
 "nbformat": 4,
 "nbformat_minor": 5
}
