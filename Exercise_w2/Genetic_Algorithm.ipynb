{
 "cells": [
  {
   "cell_type": "code",
   "execution_count": 7,
   "id": "e7ea6c22",
   "metadata": {},
   "outputs": [
    {
     "name": "stdout",
     "output_type": "stream",
     "text": [
      "Giải phương trình 3x^2 + 8x + 2 = 0:\n",
      "Kết quả: x = -0.2794351079304652\n",
      "Giá trị fitness tốt nhất: 0.0012289248113894757\n"
     ]
    }
   ],
   "source": [
    "import random\n",
    "\n",
    "# Hàm tính fitness cho một cá thể (đáp số x)\n",
    "def fitness(x, a, b, c):\n",
    "    return abs(a * x**2 + b * x + c)\n",
    "\n",
    "def genetic_algorithm(a, b, c, population_size, num_generations, mutation_rate):\n",
    "    best_solution = None\n",
    "    best_fitness = float('inf')\n",
    "\n",
    "    # Bước 1: Khởi tạo quần thể ban đầu\n",
    "    population = [random.uniform(-10, 10) for _ in range(population_size)]\n",
    "\n",
    "    for generation in range(num_generations):\n",
    "        # Bước 2: Tính fitness cho từng cá thể\n",
    "        fitness_scores = [fitness(x, a, b, c) for x in population]\n",
    "\n",
    "        # Tìm cá thể tốt nhất trong thế hệ hiện tại\n",
    "        min_fitness = min(fitness_scores)\n",
    "        if min_fitness < best_fitness:\n",
    "            best_fitness = min_fitness\n",
    "            best_solution = population[fitness_scores.index(min_fitness)]\n",
    "\n",
    "        # Bước 3: Chọn cặp cá thể cho lai và đột biến\n",
    "        selected_parents = random.choices(population, k=2, weights=[1/f for f in fitness_scores])\n",
    "        child = (selected_parents[0] + selected_parents[1]) / 2\n",
    "\n",
    "        # Bước 4: Đột biến\n",
    "        if random.random() < mutation_rate:\n",
    "            mutation = random.uniform(-0.5, 0.5)\n",
    "            child += mutation\n",
    "\n",
    "        # Thay thế một cá thể bất kỳ trong quần thể bằng cá thể con\n",
    "        population[random.randint(0, population_size - 1)] = child\n",
    "\n",
    "    return best_solution, best_fitness\n",
    "\n",
    "# Thử nghiệm giải phương trình ax^2 + bx + c = 0\n",
    "a = 3\n",
    "b = 8\n",
    "c = 2\n",
    "population_size = 100\n",
    "num_generations = 100\n",
    "mutation_rate = 0.1\n",
    "\n",
    "result, fitness = genetic_algorithm(a, b, c, population_size, num_generations, mutation_rate)\n",
    "print(f\"Giải phương trình {a}x^2 + {b}x + {c} = 0:\")\n",
    "print(f\"Kết quả: x = {result}\")\n",
    "print(f\"Giá trị fitness tốt nhất: {fitness}\")"
   ]
  },
  {
   "cell_type": "code",
   "execution_count": null,
   "id": "941fa4b4",
   "metadata": {},
   "outputs": [],
   "source": []
  }
 ],
 "metadata": {
  "kernelspec": {
   "display_name": "Python 3 (ipykernel)",
   "language": "python",
   "name": "python3"
  },
  "language_info": {
   "codemirror_mode": {
    "name": "ipython",
    "version": 3
   },
   "file_extension": ".py",
   "mimetype": "text/x-python",
   "name": "python",
   "nbconvert_exporter": "python",
   "pygments_lexer": "ipython3",
   "version": "3.9.16"
  }
 },
 "nbformat": 4,
 "nbformat_minor": 5
}
